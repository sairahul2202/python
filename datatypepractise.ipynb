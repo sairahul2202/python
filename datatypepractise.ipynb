{
  "nbformat": 4,
  "nbformat_minor": 0,
  "metadata": {
    "colab": {
      "provenance": []
    },
    "kernelspec": {
      "name": "python3",
      "display_name": "Python 3"
    },
    "language_info": {
      "name": "python"
    }
  },
  "cells": [
    {
      "cell_type": "code",
      "execution_count": null,
      "metadata": {
        "id": "ukGij03_GkLX"
      },
      "outputs": [],
      "source": []
    },
    {
      "cell_type": "markdown",
      "source": [
        "create a list of fruits and add 2 fruits in it."
      ],
      "metadata": {
        "id": "B5xLcpQ2GmBf"
      }
    },
    {
      "cell_type": "code",
      "source": [
        "f1=['apple','banana','mango']\n",
        "f2=['grapes','pineapple','guava']\n",
        "f1.extend(f2)\n",
        "print(f1)"
      ],
      "metadata": {
        "colab": {
          "base_uri": "https://localhost:8080/"
        },
        "id": "6DQZcpNKGyrO",
        "outputId": "5cf0284b-8bd6-4870-c295-ccfc952db3cb"
      },
      "execution_count": null,
      "outputs": [
        {
          "output_type": "stream",
          "name": "stdout",
          "text": [
            "['apple', 'banana', 'mango', 'grapes', 'pineapple', 'guava']\n"
          ]
        }
      ]
    },
    {
      "cell_type": "markdown",
      "source": [
        "create a tuple  acess the elements by using index\n",
        "both positive and negative"
      ],
      "metadata": {
        "id": "aDXDZck6HPkM"
      }
    },
    {
      "cell_type": "code",
      "source": [
        "t=(1,2,3,4,5,6,7,89)\n",
        "for i in range(len(t)):\n",
        "  print(t[i])\n",
        "for i in range(1,len(t)+1):\n",
        "  print(t[-i])\n"
      ],
      "metadata": {
        "colab": {
          "base_uri": "https://localhost:8080/"
        },
        "id": "SoJkrY9IHVhT",
        "outputId": "fa92305a-bded-447b-e54a-d7382ec415b2"
      },
      "execution_count": null,
      "outputs": [
        {
          "output_type": "stream",
          "name": "stdout",
          "text": [
            "1\n",
            "2\n",
            "3\n",
            "4\n",
            "5\n",
            "6\n",
            "7\n",
            "89\n",
            "89\n",
            "7\n",
            "6\n",
            "5\n",
            "4\n",
            "3\n",
            "2\n",
            "1\n"
          ]
        }
      ]
    },
    {
      "cell_type": "markdown",
      "source": [
        "3.create 3 lists and concinate them as a single list\n",
        ""
      ],
      "metadata": {
        "id": "CS4NikdCHwUX"
      }
    },
    {
      "cell_type": "code",
      "source": [
        "x=[1,2,3,4,5,6]\n",
        "y=['h','e','l','l','o']\n",
        "z=[0.1,0.2,0.3,0.99]\n",
        "y.extend(z)\n",
        "x.extend(y)\n",
        "print(x)"
      ],
      "metadata": {
        "colab": {
          "base_uri": "https://localhost:8080/"
        },
        "id": "yZaLJIj5Q9HU",
        "outputId": "776e1129-b276-4ebd-f3e9-dc1bc31952df"
      },
      "execution_count": 1,
      "outputs": [
        {
          "output_type": "stream",
          "name": "stdout",
          "text": [
            "[1, 2, 3, 4, 5, 6, 'h', 'e', 'l', 'l', 'o', 0.1, 0.2, 0.3, 0.99]\n"
          ]
        }
      ]
    },
    {
      "cell_type": "markdown",
      "source": [
        "4.write a python programme to count the occurance of each element in a given list"
      ],
      "metadata": {
        "id": "2PGCInlDRuqd"
      }
    },
    {
      "cell_type": "code",
      "source": [
        "l=[1,4,2,3,5,6,2,2,4,2,5,6,7,6,5,7,5,0]\n",
        "s=set(l)\n",
        "for i in s:\n",
        "  print(str(i)+\" count= \"+str(l.count(i)))"
      ],
      "metadata": {
        "colab": {
          "base_uri": "https://localhost:8080/"
        },
        "id": "9O7qsOoQRv4U",
        "outputId": "1d4e8a31-2474-4bdd-e480-902787ef9aa5"
      },
      "execution_count": 15,
      "outputs": [
        {
          "output_type": "stream",
          "name": "stdout",
          "text": [
            "0 count= 1\n",
            "1 count= 1\n",
            "2 count= 4\n",
            "3 count= 1\n",
            "4 count= 2\n",
            "5 count= 4\n",
            "6 count= 3\n",
            "7 count= 2\n"
          ]
        }
      ]
    },
    {
      "cell_type": "markdown",
      "source": [
        "5.create a dict to store the information about a person name age location qualification gender."
      ],
      "metadata": {
        "id": "aDDpVJKfT4_T"
      }
    },
    {
      "cell_type": "code",
      "source": [
        "person_dict = {\n",
        "    'name': 'sai',\n",
        "    'age': 22,\n",
        "    'location': 'hyderabadh',\n",
        "    'qualification': 'B.Tech',\n",
        "    'gender': 'male'\n",
        "}\n",
        "print(person_dict)\n"
      ],
      "metadata": {
        "colab": {
          "base_uri": "https://localhost:8080/"
        },
        "id": "vHQgGN02T5-L",
        "outputId": "6bc1f979-1384-4f6c-9348-c157d8f65caa"
      },
      "execution_count": 21,
      "outputs": [
        {
          "output_type": "stream",
          "name": "stdout",
          "text": [
            "{'name': 'sai', 'age': 22, 'location': 'hyderabadh', 'qualification': 'B.Tech', 'gender': 'male'}\n"
          ]
        }
      ]
    },
    {
      "cell_type": "markdown",
      "source": [
        "6.add a new key-value pair to an existing dict"
      ],
      "metadata": {
        "id": "85UIhbbbU6pP"
      }
    },
    {
      "cell_type": "code",
      "source": [
        "person_dict = {\n",
        "    'name': 'sai',\n",
        "    'age': 22,\n",
        "    'location': 'hyderabadh',\n",
        "    'qualification': 'B.Tech',\n",
        "    'gender': 'male'\n",
        "}\n",
        "person_dict['hobbies']='anime watching'\n",
        "print(person_dict)"
      ],
      "metadata": {
        "colab": {
          "base_uri": "https://localhost:8080/"
        },
        "id": "mS6ZKISKU7Vr",
        "outputId": "205c5ad6-1a46-4d36-86dc-e0745ebb7022"
      },
      "execution_count": 22,
      "outputs": [
        {
          "output_type": "stream",
          "name": "stdout",
          "text": [
            "{'name': 'sai', 'age': 22, 'location': 'hyderabadh', 'qualification': 'B.Tech', 'gender': 'male', 'hobbies': 'anime watching'}\n"
          ]
        }
      ]
    },
    {
      "cell_type": "markdown",
      "source": [
        "7.create two dict merge them as a single dict."
      ],
      "metadata": {
        "id": "jCFeOafVVfkC"
      }
    },
    {
      "cell_type": "code",
      "source": [
        " p = {\n",
        "    'name': 'sai',\n",
        "    'age': 22,\n",
        "}\n",
        "p1={\n",
        "    'location': 'hyderabadh',\n",
        "    'qualification': 'B.Tech',\n",
        "    'gender': 'male'\n",
        "}\n",
        "p.update(p1)\n",
        "print(p)"
      ],
      "metadata": {
        "colab": {
          "base_uri": "https://localhost:8080/"
        },
        "id": "wWlf7zNkVgay",
        "outputId": "759688bd-5a21-4ea4-c557-e71f639501ec"
      },
      "execution_count": 23,
      "outputs": [
        {
          "output_type": "stream",
          "name": "stdout",
          "text": [
            "{'name': 'sai', 'age': 22, 'location': 'hyderabadh', 'qualification': 'B.Tech', 'gender': 'male'}\n"
          ]
        }
      ]
    },
    {
      "cell_type": "markdown",
      "source": [
        " 8.write a python programme to remove key value from a dict."
      ],
      "metadata": {
        "id": "nrxqh7EPV91X"
      }
    },
    {
      "cell_type": "code",
      "source": [
        "person_dict = {\n",
        "    'name': 'sai',\n",
        "    'age': 22,\n",
        "    'location': 'hyderabadh',\n",
        "    'qualification': 'B.Tech',\n",
        "    'gender': 'male'\n",
        "}\n",
        "loc=person_dict.pop('location')\n",
        "print(person_dict)\n",
        "print(loc)"
      ],
      "metadata": {
        "colab": {
          "base_uri": "https://localhost:8080/"
        },
        "id": "VHBzbTnfWA_I",
        "outputId": "39caeb1b-6c9d-437d-aaa9-5d835f5bd2e4"
      },
      "execution_count": 24,
      "outputs": [
        {
          "output_type": "stream",
          "name": "stdout",
          "text": [
            "{'name': 'sai', 'age': 22, 'qualification': 'B.Tech', 'gender': 'male'}\n",
            "hyderabadh\n"
          ]
        }
      ]
    },
    {
      "cell_type": "markdown",
      "source": [
        " 9.create 2 sets each containing 7 elements apply uion intersection diff and symmatic diff."
      ],
      "metadata": {
        "id": "SURfyiH8WWyC"
      }
    },
    {
      "cell_type": "code",
      "source": [
        "s={1,2,4,1,3,6,5,4,0}\n",
        "s1={9,8,7,6,5,4,3,2,1}\n",
        "print(s|s1)\n",
        "print(s&s1)\n",
        "print(s-s1)\n",
        "print(s^s1)"
      ],
      "metadata": {
        "colab": {
          "base_uri": "https://localhost:8080/"
        },
        "id": "OhszFwkdWXfQ",
        "outputId": "10f7d35d-7077-4c62-dd41-74a76b28fe9d"
      },
      "execution_count": 27,
      "outputs": [
        {
          "output_type": "stream",
          "name": "stdout",
          "text": [
            "{0, 1, 2, 3, 4, 5, 6, 7, 8, 9}\n",
            "{1, 2, 3, 4, 5, 6}\n",
            "{0}\n",
            "{0, 7, 8, 9}\n"
          ]
        }
      ]
    },
    {
      "cell_type": "markdown",
      "source": [
        "10.create a set with 15 elements with repeated elements and remove the duplicates."
      ],
      "metadata": {
        "id": "lwC-tXznXB2N"
      }
    },
    {
      "cell_type": "code",
      "source": [
        "s={1,4,2,3,2,1,3,1,2,13,4,9,4,5,3}\n",
        "print(s)\n"
      ],
      "metadata": {
        "colab": {
          "base_uri": "https://localhost:8080/"
        },
        "id": "sY3xCLL_XGWN",
        "outputId": "a07fb010-f455-4baf-baef-ee7e1968f280"
      },
      "execution_count": 28,
      "outputs": [
        {
          "output_type": "stream",
          "name": "stdout",
          "text": [
            "{1, 2, 3, 4, 5, 9, 13}\n"
          ]
        }
      ]
    }
  ]
}