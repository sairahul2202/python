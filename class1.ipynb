{
  "nbformat": 4,
  "nbformat_minor": 0,
  "metadata": {
    "colab": {
      "provenance": []
    },
    "kernelspec": {
      "name": "python3",
      "display_name": "Python 3"
    },
    "language_info": {
      "name": "python"
    }
  },
  "cells": [
    {
      "cell_type": "code",
      "execution_count": 2,
      "metadata": {
        "colab": {
          "base_uri": "https://localhost:8080/"
        },
        "id": "cJJ_UgeP7DGX",
        "outputId": "ef890323-504a-441e-d4c6-18654c02d31a"
      },
      "outputs": [
        {
          "output_type": "stream",
          "name": "stdout",
          "text": [
            "[1, 2, 3, 6, 1, 3, 4, 0, 9, 5, 7]\n"
          ]
        }
      ],
      "source": [
        "list1=[1,2,3,6,1,3,4,0]\n",
        "list2=[9,5,6,2,3,8]\n",
        "list3=[1,2,3,6,1]\n",
        "list4=['hi','hello','hOw','Are','you']\n",
        "list1.append(9)\n",
        "list1.append(5)\n",
        "list1.append(7)\n",
        "print(list1)\n",
        "\n"
      ]
    },
    {
      "cell_type": "markdown",
      "source": [
        "append examples"
      ],
      "metadata": {
        "id": "BenUFCYd8uEd"
      }
    },
    {
      "cell_type": "markdown",
      "source": [],
      "metadata": {
        "id": "wv0oueXO8Ys7"
      }
    },
    {
      "cell_type": "code",
      "source": [
        "list1=[1,2,3,6,1,3,4,0]\n",
        "list2=[9,5,6,2,3,8]\n",
        "list3=[1,2,3,6,1]\n",
        "list4=['hi','hello','hOw','Are','you']\n",
        "list1.extend(list2)\n",
        "list2.extend(list3)\n",
        "list1.extend(list2)\n",
        "print(list1)\n",
        "list1.extend(list4)\n",
        "print(list1)\n"
      ],
      "metadata": {
        "colab": {
          "base_uri": "https://localhost:8080/"
        },
        "id": "Xrf_14ip8ao6",
        "outputId": "bd3ee7cb-c1bf-40e3-be51-2f5757a91aa2"
      },
      "execution_count": 17,
      "outputs": [
        {
          "output_type": "stream",
          "name": "stdout",
          "text": [
            "[1, 2, 3, 6, 1, 3, 4, 0, 9, 5, 6, 2, 3, 8, 9, 5, 6, 2, 3, 8, 1, 2, 3, 6, 1]\n",
            "[1, 2, 3, 6, 1, 3, 4, 0, 9, 5, 6, 2, 3, 8, 9, 5, 6, 2, 3, 8, 1, 2, 3, 6, 1, 'hi', 'hello', 'hOw', 'Are', 'you']\n"
          ]
        }
      ]
    },
    {
      "cell_type": "markdown",
      "source": [
        "extend examples"
      ],
      "metadata": {
        "id": "Mqs0-SBn8n4m"
      }
    },
    {
      "cell_type": "code",
      "source": [
        "list1=[1,2,3,6,1,3,4,0]\n",
        "list2=['hi','hello','hOw','Are','you']\n",
        "list1.insert(-1,99)\n",
        "list1.insert(1,8)\n",
        "list1.insert(len(list1)-1,7)\n",
        "print(list1)"
      ],
      "metadata": {
        "colab": {
          "base_uri": "https://localhost:8080/"
        },
        "id": "xO_DdoSI8xns",
        "outputId": "9806c91b-e242-4fa3-9108-afb5565be19f"
      },
      "execution_count": 5,
      "outputs": [
        {
          "output_type": "stream",
          "name": "stdout",
          "text": [
            "[1, 8, 2, 3, 6, 1, 3, 4, 99, 7, 0]\n"
          ]
        }
      ]
    },
    {
      "cell_type": "markdown",
      "source": [
        "insert example"
      ],
      "metadata": {
        "id": "zfCkvgD49Riq"
      }
    },
    {
      "cell_type": "code",
      "source": [
        "list1=[1,2,3,6,1,3,4,0]\n",
        "list2=['hi','hello','hOw','Are','you']\n",
        "list1.remove(3)\n",
        "print(list1)\n",
        "list2.remove('hello')\n",
        "print(list2)\n",
        "print(list1.pop(6))\n",
        "print(list2.pop(2))"
      ],
      "metadata": {
        "colab": {
          "base_uri": "https://localhost:8080/"
        },
        "id": "358RxNhM9TJi",
        "outputId": "edd91524-731e-41a3-f940-e8725336f16f"
      },
      "execution_count": 11,
      "outputs": [
        {
          "output_type": "stream",
          "name": "stdout",
          "text": [
            "[1, 2, 6, 1, 3, 4, 0]\n",
            "['hi', 'hOw', 'Are', 'you']\n",
            "0\n",
            "Are\n"
          ]
        }
      ]
    },
    {
      "cell_type": "markdown",
      "source": [
        "remove and pop examples"
      ],
      "metadata": {
        "id": "DlPOxHDj-OX7"
      }
    },
    {
      "cell_type": "code",
      "source": [
        "list1=[1,2,3,6,1,3,4,0]\n",
        "list2=['hi','hello','hOw','Are','you','hi']\n",
        "print(list1.index(3))\n",
        "print(list1.index(0))\n",
        "print(\"location is \"+ str(list2.index('hOw')))\n",
        "print(\"location is \"+str(list2.index('you')))\n",
        "print(\"count = \"+ str(list1.count(3)))\n",
        "print(\"count = \"+str(list1.count(1)))\n",
        "print(list2.count('hello'))\n",
        "print(list2.count('hi'))\n"
      ],
      "metadata": {
        "colab": {
          "base_uri": "https://localhost:8080/"
        },
        "id": "6Ua1RMRi-RvO",
        "outputId": "1a8ad323-60c0-4b2b-db32-e0945696f160"
      },
      "execution_count": 15,
      "outputs": [
        {
          "output_type": "stream",
          "name": "stdout",
          "text": [
            "2\n",
            "7\n",
            "location is 2\n",
            "location is 4\n",
            "count = 2\n",
            "count = 2\n",
            "1\n",
            "2\n"
          ]
        }
      ]
    },
    {
      "cell_type": "markdown",
      "source": [
        "index and count examples"
      ],
      "metadata": {
        "id": "9BH2j4fq_lP_"
      }
    },
    {
      "cell_type": "code",
      "source": [
        "list1=[1,2,3,6,1,3,4,0]\n",
        "list2=['hi','hello','hOw','Are','you','hi']\n",
        "list1.sort()\n",
        "list2.sort()\n",
        "print(list1)\n",
        "print(list2)\n",
        "list1.reverse()\n",
        "list2.reverse()\n",
        "print(list1)\n",
        "print(list2)\n"
      ],
      "metadata": {
        "colab": {
          "base_uri": "https://localhost:8080/"
        },
        "id": "F2k2GhQ-_ntP",
        "outputId": "09066499-2151-41a0-c1f3-61012906ce47"
      },
      "execution_count": 23,
      "outputs": [
        {
          "output_type": "stream",
          "name": "stdout",
          "text": [
            "[0, 1, 1, 2, 3, 3, 4, 6]\n",
            "['Are', 'hOw', 'hello', 'hi', 'hi', 'you']\n",
            "[6, 4, 3, 3, 2, 1, 1, 0]\n",
            "['you', 'hi', 'hi', 'hello', 'hOw', 'Are']\n"
          ]
        }
      ]
    },
    {
      "cell_type": "markdown",
      "source": [
        "sort and reverse examples"
      ],
      "metadata": {
        "id": "GVD740wwA83g"
      }
    }
  ]
}